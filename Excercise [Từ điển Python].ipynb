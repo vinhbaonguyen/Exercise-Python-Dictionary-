{
 "cells": [
  {
   "cell_type": "code",
   "execution_count": 2,
   "id": "ab37306b",
   "metadata": {},
   "outputs": [
    {
     "name": "stdout",
     "output_type": "stream",
     "text": [
      "Please input the word that you want to search :two\n",
      "số hai\n"
     ]
    }
   ],
   "source": [
    "def translate_dict(word,dictionary):\n",
    "    for key in dictionary.keys():\n",
    "        if word == key:\n",
    "            return dictionary[word]\n",
    "         \n",
    "word = input(\"Please input the word that you want to search :\")\n",
    "dictionary = {'one':'số 1','two':'số hai','three':'số ba','four':'số bốn'}\n",
    "\n",
    "trans_late_result = translate_dict(word,dictionary)\n",
    "\n",
    "if trans_late_result:\n",
    "    print(dictionary[word])\n",
    "else :\n",
    "    print(\"the word that you want to search NOT EXISTS \")"
   ]
  }
 ],
 "metadata": {
  "kernelspec": {
   "display_name": "Python 3 (ipykernel)",
   "language": "python",
   "name": "python3"
  },
  "language_info": {
   "codemirror_mode": {
    "name": "ipython",
    "version": 3
   },
   "file_extension": ".py",
   "mimetype": "text/x-python",
   "name": "python",
   "nbconvert_exporter": "python",
   "pygments_lexer": "ipython3",
   "version": "3.11.1"
  }
 },
 "nbformat": 4,
 "nbformat_minor": 5
}
